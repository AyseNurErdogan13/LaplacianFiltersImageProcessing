{
  "cells": [
    {
      "cell_type": "code",
      "execution_count": 18,
      "metadata": {
        "id": "l7ldabeTtC1q"
      },
      "outputs": [],
      "source": [
        "import cv2\n",
        "import numpy as np \n",
        "import matplotlib.pyplot as plt"
      ]
    },
    {
      "cell_type": "code",
      "execution_count": 19,
      "metadata": {
        "id": "Vo1dplEFuXFr"
      },
      "outputs": [],
      "source": [
        "img = np.random.randint(10, size=(26, 26))"
      ]
    },
    {
      "cell_type": "code",
      "execution_count": 20,
      "metadata": {
        "colab": {
          "base_uri": "https://localhost:8080/"
        },
        "id": "yiapZaLAvlT6",
        "outputId": "556c5eef-0fe2-4948-fee1-4e21b8faab7e"
      },
      "outputs": [
        {
          "data": {
            "text/plain": [
              "array([[5, 6, 1, 7, 6, 1, 6, 0, 2, 9, 8, 2, 8, 9, 1, 5, 1, 7, 4, 1, 4, 1,\n",
              "        5, 6, 5, 3],\n",
              "       [7, 8, 0, 2, 0, 1, 1, 3, 3, 2, 5, 7, 4, 8, 8, 7, 5, 1, 6, 6, 6, 0,\n",
              "        0, 7, 7, 9],\n",
              "       [7, 3, 3, 9, 1, 1, 0, 2, 7, 2, 1, 3, 9, 6, 0, 1, 2, 2, 2, 0, 0, 6,\n",
              "        1, 6, 8, 7],\n",
              "       [9, 5, 4, 9, 4, 8, 8, 8, 7, 5, 7, 0, 3, 5, 4, 7, 4, 6, 3, 7, 0, 3,\n",
              "        9, 7, 0, 2],\n",
              "       [0, 0, 2, 4, 5, 4, 3, 2, 7, 2, 4, 4, 1, 8, 8, 1, 8, 4, 9, 8, 1, 9,\n",
              "        2, 3, 8, 8],\n",
              "       [6, 4, 0, 2, 3, 5, 4, 3, 0, 8, 3, 2, 8, 4, 0, 0, 6, 1, 0, 5, 6, 4,\n",
              "        2, 3, 8, 2],\n",
              "       [4, 1, 2, 6, 9, 8, 1, 7, 5, 6, 6, 3, 9, 6, 3, 2, 4, 9, 3, 5, 8, 4,\n",
              "        9, 1, 7, 6],\n",
              "       [7, 9, 9, 5, 6, 2, 6, 1, 6, 7, 0, 2, 8, 1, 2, 5, 4, 2, 1, 0, 4, 4,\n",
              "        8, 7, 2, 5],\n",
              "       [7, 0, 6, 3, 6, 6, 8, 3, 1, 0, 4, 4, 0, 1, 3, 6, 4, 9, 9, 0, 7, 5,\n",
              "        6, 1, 9, 2],\n",
              "       [3, 2, 1, 5, 6, 7, 7, 4, 7, 7, 3, 1, 0, 0, 2, 6, 7, 4, 8, 4, 3, 9,\n",
              "        1, 6, 6, 4],\n",
              "       [0, 5, 2, 3, 0, 9, 9, 7, 6, 9, 0, 5, 3, 2, 6, 0, 8, 9, 8, 3, 5, 7,\n",
              "        6, 7, 5, 9],\n",
              "       [9, 9, 5, 4, 1, 4, 3, 5, 3, 4, 7, 9, 7, 6, 2, 1, 1, 0, 0, 3, 7, 8,\n",
              "        3, 7, 0, 0],\n",
              "       [4, 2, 5, 2, 3, 4, 0, 8, 1, 2, 8, 9, 7, 6, 8, 1, 2, 5, 4, 7, 8, 4,\n",
              "        8, 0, 3, 7],\n",
              "       [6, 4, 2, 5, 6, 8, 6, 0, 4, 0, 9, 7, 0, 4, 3, 1, 6, 1, 3, 0, 4, 4,\n",
              "        6, 8, 3, 1],\n",
              "       [2, 4, 8, 5, 6, 9, 8, 1, 6, 3, 3, 3, 6, 5, 7, 4, 8, 0, 9, 2, 4, 2,\n",
              "        2, 0, 9, 5],\n",
              "       [5, 0, 8, 7, 3, 0, 3, 4, 7, 7, 6, 9, 3, 3, 4, 5, 3, 4, 5, 9, 0, 2,\n",
              "        0, 1, 7, 4],\n",
              "       [7, 7, 9, 5, 8, 6, 7, 9, 4, 4, 2, 5, 1, 6, 8, 9, 6, 6, 4, 3, 6, 0,\n",
              "        5, 6, 2, 6],\n",
              "       [2, 0, 6, 0, 5, 9, 2, 9, 5, 4, 0, 9, 9, 1, 0, 4, 6, 1, 6, 5, 7, 1,\n",
              "        0, 3, 5, 3],\n",
              "       [7, 5, 0, 3, 8, 3, 8, 6, 2, 7, 9, 6, 4, 4, 1, 3, 4, 1, 1, 9, 7, 4,\n",
              "        7, 5, 3, 3],\n",
              "       [6, 8, 7, 8, 3, 5, 3, 1, 0, 1, 5, 7, 5, 3, 0, 3, 2, 8, 1, 5, 6, 0,\n",
              "        5, 9, 9, 3],\n",
              "       [3, 7, 6, 9, 3, 8, 3, 3, 6, 9, 0, 7, 3, 9, 2, 6, 3, 0, 2, 1, 4, 4,\n",
              "        4, 4, 0, 9],\n",
              "       [3, 0, 9, 1, 8, 2, 0, 5, 4, 4, 7, 4, 2, 3, 4, 5, 8, 6, 8, 8, 1, 4,\n",
              "        4, 1, 0, 7],\n",
              "       [5, 6, 5, 2, 2, 0, 1, 4, 6, 9, 4, 7, 3, 8, 6, 0, 0, 9, 8, 3, 6, 4,\n",
              "        7, 5, 8, 4],\n",
              "       [9, 5, 7, 5, 0, 9, 7, 2, 3, 3, 4, 2, 1, 2, 6, 9, 3, 5, 2, 4, 0, 4,\n",
              "        9, 4, 0, 5],\n",
              "       [6, 0, 9, 0, 2, 0, 2, 0, 6, 3, 6, 9, 5, 0, 0, 0, 1, 2, 0, 0, 4, 1,\n",
              "        5, 3, 7, 0],\n",
              "       [8, 7, 1, 6, 7, 6, 3, 5, 7, 7, 1, 4, 6, 6, 9, 8, 3, 4, 0, 2, 7, 2,\n",
              "        5, 3, 9, 6]])"
            ]
          },
          "execution_count": 20,
          "metadata": {},
          "output_type": "execute_result"
        }
      ],
      "source": [
        "img"
      ]
    },
    {
      "cell_type": "code",
      "execution_count": 21,
      "metadata": {
        "id": "NK-1RvDtvnWU"
      },
      "outputs": [],
      "source": [
        "wid=len(img[0])\n",
        "hgt=len(img)"
      ]
    },
    {
      "cell_type": "code",
      "execution_count": 22,
      "metadata": {
        "colab": {
          "base_uri": "https://localhost:8080/"
        },
        "id": "oeaZJYcAvqcq",
        "outputId": "b0a40854-a29a-46a7-b809-8a98b1091d9b"
      },
      "outputs": [
        {
          "data": {
            "text/plain": [
              "26"
            ]
          },
          "execution_count": 22,
          "metadata": {},
          "output_type": "execute_result"
        }
      ],
      "source": [
        "wid"
      ]
    },
    {
      "cell_type": "code",
      "execution_count": 23,
      "metadata": {
        "colab": {
          "base_uri": "https://localhost:8080/"
        },
        "id": "e9pUo8oDvsmX",
        "outputId": "4b8cbc3c-ebe8-4c3f-fadc-34fa4ed12b6f"
      },
      "outputs": [
        {
          "data": {
            "text/plain": [
              "26"
            ]
          },
          "execution_count": 23,
          "metadata": {},
          "output_type": "execute_result"
        }
      ],
      "source": [
        "hgt"
      ]
    },
    {
      "cell_type": "markdown",
      "metadata": {
        "id": "qpf8zNctvyD2"
      },
      "source": [
        " Laplacian Filter"
      ]
    },
    {
      "cell_type": "code",
      "execution_count": 24,
      "metadata": {
        "id": "sjdj8Y1RvuzX"
      },
      "outputs": [],
      "source": [
        "filter = [[0,-1,0],[-1,4,-1],[0,-1,0]]"
      ]
    },
    {
      "cell_type": "code",
      "execution_count": 25,
      "metadata": {
        "colab": {
          "base_uri": "https://localhost:8080/"
        },
        "id": "xXmGPZ6CwWAi",
        "outputId": "3ab218a9-9b81-49de-df8a-0d7619fe1c6b"
      },
      "outputs": [
        {
          "name": "stdout",
          "output_type": "stream",
          "text": [
            "[[0, 0, 0, 0, 0, 0, 0, 0, 0, 0, 0, 0, 0, 0, 0, 0, 0, 0, 0, 0, 0, 0, 0, 0], [0, 0, 0, 0, 0, 0, 0, 0, 0, 0, 0, 0, 0, 0, 0, 0, 0, 0, 0, 0, 0, 0, 0, 0], [0, 0, 0, 0, 0, 0, 0, 0, 0, 0, 0, 0, 0, 0, 0, 0, 0, 0, 0, 0, 0, 0, 0, 0], [0, 0, 0, 0, 0, 0, 0, 0, 0, 0, 0, 0, 0, 0, 0, 0, 0, 0, 0, 0, 0, 0, 0, 0], [0, 0, 0, 0, 0, 0, 0, 0, 0, 0, 0, 0, 0, 0, 0, 0, 0, 0, 0, 0, 0, 0, 0, 0], [0, 0, 0, 0, 0, 0, 0, 0, 0, 0, 0, 0, 0, 0, 0, 0, 0, 0, 0, 0, 0, 0, 0, 0], [0, 0, 0, 0, 0, 0, 0, 0, 0, 0, 0, 0, 0, 0, 0, 0, 0, 0, 0, 0, 0, 0, 0, 0], [0, 0, 0, 0, 0, 0, 0, 0, 0, 0, 0, 0, 0, 0, 0, 0, 0, 0, 0, 0, 0, 0, 0, 0], [0, 0, 0, 0, 0, 0, 0, 0, 0, 0, 0, 0, 0, 0, 0, 0, 0, 0, 0, 0, 0, 0, 0, 0], [0, 0, 0, 0, 0, 0, 0, 0, 0, 0, 0, 0, 0, 0, 0, 0, 0, 0, 0, 0, 0, 0, 0, 0], [0, 0, 0, 0, 0, 0, 0, 0, 0, 0, 0, 0, 0, 0, 0, 0, 0, 0, 0, 0, 0, 0, 0, 0], [0, 0, 0, 0, 0, 0, 0, 0, 0, 0, 0, 0, 0, 0, 0, 0, 0, 0, 0, 0, 0, 0, 0, 0], [0, 0, 0, 0, 0, 0, 0, 0, 0, 0, 0, 0, 0, 0, 0, 0, 0, 0, 0, 0, 0, 0, 0, 0], [0, 0, 0, 0, 0, 0, 0, 0, 0, 0, 0, 0, 0, 0, 0, 0, 0, 0, 0, 0, 0, 0, 0, 0], [0, 0, 0, 0, 0, 0, 0, 0, 0, 0, 0, 0, 0, 0, 0, 0, 0, 0, 0, 0, 0, 0, 0, 0], [0, 0, 0, 0, 0, 0, 0, 0, 0, 0, 0, 0, 0, 0, 0, 0, 0, 0, 0, 0, 0, 0, 0, 0], [0, 0, 0, 0, 0, 0, 0, 0, 0, 0, 0, 0, 0, 0, 0, 0, 0, 0, 0, 0, 0, 0, 0, 0], [0, 0, 0, 0, 0, 0, 0, 0, 0, 0, 0, 0, 0, 0, 0, 0, 0, 0, 0, 0, 0, 0, 0, 0], [0, 0, 0, 0, 0, 0, 0, 0, 0, 0, 0, 0, 0, 0, 0, 0, 0, 0, 0, 0, 0, 0, 0, 0], [0, 0, 0, 0, 0, 0, 0, 0, 0, 0, 0, 0, 0, 0, 0, 0, 0, 0, 0, 0, 0, 0, 0, 0], [0, 0, 0, 0, 0, 0, 0, 0, 0, 0, 0, 0, 0, 0, 0, 0, 0, 0, 0, 0, 0, 0, 0, 0], [0, 0, 0, 0, 0, 0, 0, 0, 0, 0, 0, 0, 0, 0, 0, 0, 0, 0, 0, 0, 0, 0, 0, 0], [0, 0, 0, 0, 0, 0, 0, 0, 0, 0, 0, 0, 0, 0, 0, 0, 0, 0, 0, 0, 0, 0, 0, 0], [0, 0, 0, 0, 0, 0, 0, 0, 0, 0, 0, 0, 0, 0, 0, 0, 0, 0, 0, 0, 0, 0, 0, 0]]\n"
          ]
        }
      ],
      "source": [
        "new_arr=[]\n",
        "rows, cols=(hgt-2),(wid-2)\n",
        "for i in range(rows):\n",
        "    col = []\n",
        "    for j in range(cols):\n",
        "        col.append(0)\n",
        "    new_arr.append(col)\n",
        "print(new_arr)"
      ]
    },
    {
      "cell_type": "code",
      "execution_count": 26,
      "metadata": {
        "id": "oTsTNjSCwXit"
      },
      "outputs": [],
      "source": [
        "for w in range(hgt-2): #resim dikey\n",
        "  for h in range(wid-2): #resim yatay\n",
        "    output = 0\n",
        "    for i in range(3): #filtre dikey \n",
        "      for j in range(3): #filtre yatay \n",
        "        output += (img[w+i][h+j])*(filter[i][j])\n",
        "    new_arr[w][h] = output"
      ]
    },
    {
      "cell_type": "code",
      "execution_count": null,
      "metadata": {
        "colab": {
          "base_uri": "https://localhost:8080/"
        },
        "id": "g34CXINsyMnN",
        "outputId": "ccd06e99-8b76-4d1f-805e-219c18dbf2c6"
      },
      "outputs": [],
      "source": [
        "new_arr"
      ]
    },
    {
      "cell_type": "markdown",
      "metadata": {
        "id": "wVWotlFOzPGR"
      },
      "source": [
        "max pooling"
      ]
    },
    {
      "cell_type": "code",
      "execution_count": 28,
      "metadata": {
        "id": "LoH8SvyHyPSu"
      },
      "outputs": [],
      "source": [
        "new_wid=len(new_arr[0])\n",
        "new_hgt=len(new_arr)"
      ]
    },
    {
      "cell_type": "code",
      "execution_count": 29,
      "metadata": {
        "id": "AvdOoo65yWIG"
      },
      "outputs": [],
      "source": [
        "max_arr=[]\n",
        "rows, cols=int(new_hgt/2),int(new_wid/2)\n",
        "for i in range(rows):\n",
        "    col = []\n",
        "    for j in range(cols):\n",
        "        col.append(0)\n",
        "    max_arr.append(col)"
      ]
    },
    {
      "cell_type": "code",
      "execution_count": 30,
      "metadata": {
        "id": "SvDcW1HPyW37"
      },
      "outputs": [],
      "source": [
        "for w in range(int(new_wid/2)):\n",
        "  for h in range(int(new_hgt/2)):\n",
        "    output=-50\n",
        "    for i in range(2):\n",
        "      for j in range(2):\n",
        "        if (new_arr[w*2+i][h*2+j]>output):\n",
        "          output = new_arr[w*2+i][h*2+j]\n",
        "    max_arr[w][h] = output  "
      ]
    },
    {
      "cell_type": "code",
      "execution_count": 31,
      "metadata": {
        "colab": {
          "base_uri": "https://localhost:8080/"
        },
        "id": "0SAoXUQZyakp",
        "outputId": "bd2230cd-92b1-400f-8e7a-30951528a40c"
      },
      "outputs": [
        {
          "data": {
            "text/plain": [
              "[[16, 21, 1, 14, 2, 20, 16, 9, 11, 14, 20, 12],\n",
              " [4, 15, 15, 17, 18, 9, 19, 18, 21, 17, 26, 13],\n",
              " [9, 13, 15, 18, 21, 16, 7, 11, 26, 13, 21, 12],\n",
              " [19, 3, 12, 10, 16, 20, 1, 6, 18, 16, 9, 25],\n",
              " [7, 7, 16, 10, 19, 7, 18, 15, 16, 2, 20, 9],\n",
              " [15, 5, 1, 26, 7, 8, 20, 0, 13, 13, 19, 18],\n",
              " [13, 5, 14, 9, 18, 13, 12, 19, 26, 8, 2, 23],\n",
              " [12, 13, 8, 12, 8, 19, 13, 13, 9, 26, 14, 13],\n",
              " [15, 18, 20, 14, 18, 21, 7, 9, 13, 18, 14, 9],\n",
              " [11, 18, 19, 8, 25, 14, 25, 11, 28, 8, 4, 21],\n",
              " [24, 24, -7, 9, 19, 15, 18, 18, 17, 19, 6, 23],\n",
              " [28, 11, 29, 11, 7, 19, 7, 27, 4, 11, 16, 16]]"
            ]
          },
          "execution_count": 31,
          "metadata": {},
          "output_type": "execute_result"
        }
      ],
      "source": [
        "max_arr"
      ]
    },
    {
      "cell_type": "code",
      "execution_count": 32,
      "metadata": {
        "colab": {
          "base_uri": "https://localhost:8080/"
        },
        "id": "UbNbflASzBvJ",
        "outputId": "762f23dd-892b-4f8a-d11d-fb3a749f559d"
      },
      "outputs": [
        {
          "data": {
            "text/plain": [
              "list"
            ]
          },
          "execution_count": 32,
          "metadata": {},
          "output_type": "execute_result"
        }
      ],
      "source": [
        "type(max_arr)"
      ]
    },
    {
      "cell_type": "code",
      "execution_count": 33,
      "metadata": {
        "id": "RgTlnEDl2ePz"
      },
      "outputs": [],
      "source": [
        "flatten_arr=np.matrix(max_arr)"
      ]
    },
    {
      "cell_type": "code",
      "execution_count": 34,
      "metadata": {
        "colab": {
          "base_uri": "https://localhost:8080/"
        },
        "id": "9KM5tZhW2f0W",
        "outputId": "c0ce2993-6d39-463c-cfd5-f775ef0b077c"
      },
      "outputs": [
        {
          "data": {
            "text/plain": [
              "matrix([[16, 21,  1, 14,  2, 20, 16,  9, 11, 14, 20, 12,  4, 15, 15, 17,\n",
              "         18,  9, 19, 18, 21, 17, 26, 13,  9, 13, 15, 18, 21, 16,  7, 11,\n",
              "         26, 13, 21, 12, 19,  3, 12, 10, 16, 20,  1,  6, 18, 16,  9, 25,\n",
              "          7,  7, 16, 10, 19,  7, 18, 15, 16,  2, 20,  9, 15,  5,  1, 26,\n",
              "          7,  8, 20,  0, 13, 13, 19, 18, 13,  5, 14,  9, 18, 13, 12, 19,\n",
              "         26,  8,  2, 23, 12, 13,  8, 12,  8, 19, 13, 13,  9, 26, 14, 13,\n",
              "         15, 18, 20, 14, 18, 21,  7,  9, 13, 18, 14,  9, 11, 18, 19,  8,\n",
              "         25, 14, 25, 11, 28,  8,  4, 21, 24, 24, -7,  9, 19, 15, 18, 18,\n",
              "         17, 19,  6, 23, 28, 11, 29, 11,  7, 19,  7, 27,  4, 11, 16, 16]])"
            ]
          },
          "execution_count": 34,
          "metadata": {},
          "output_type": "execute_result"
        }
      ],
      "source": [
        "flatten_arr.flatten()"
      ]
    }
  ],
  "metadata": {
    "colab": {
      "provenance": []
    },
    "kernelspec": {
      "display_name": "Python 3",
      "name": "python3"
    },
    "language_info": {
      "codemirror_mode": {
        "name": "ipython",
        "version": 3
      },
      "file_extension": ".py",
      "mimetype": "text/x-python",
      "name": "python",
      "nbconvert_exporter": "python",
      "pygments_lexer": "ipython3",
      "version": "3.10.6"
    }
  },
  "nbformat": 4,
  "nbformat_minor": 0
}
